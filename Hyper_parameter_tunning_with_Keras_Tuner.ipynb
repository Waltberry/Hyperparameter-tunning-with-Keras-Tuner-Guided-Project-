{
  "nbformat": 4,
  "nbformat_minor": 0,
  "metadata": {
    "colab": {
      "name": "Hyper-parameter tunning with Keras Tuner.ipynb",
      "provenance": [],
      "collapsed_sections": [],
      "authorship_tag": "ABX9TyOZfkHqwK3FMszNpX0RRyxW",
      "include_colab_link": true
    },
    "kernelspec": {
      "name": "python3",
      "display_name": "Python 3"
    },
    "language_info": {
      "name": "python"
    },
    "accelerator": "GPU"
  },
  "cells": [
    {
      "cell_type": "markdown",
      "metadata": {
        "id": "view-in-github",
        "colab_type": "text"
      },
      "source": [
        "<a href=\"https://colab.research.google.com/github/Waltberry/Hyperparameter-tunning-with-Keras-Tuner-Guided-Project-/blob/main/Hyper_parameter_tunning_with_Keras_Tuner.ipynb\" target=\"_parent\"><img src=\"https://colab.research.google.com/assets/colab-badge.svg\" alt=\"Open In Colab\"/></a>"
      ]
    },
    {
      "cell_type": "code",
      "execution_count": null,
      "metadata": {
        "id": "d3Pcvf_C89u6"
      },
      "outputs": [],
      "source": [
        "#installing Keras Tuner\n",
        "!pip install keras-tuner\n"
      ]
    },
    {
      "cell_type": "code",
      "source": [
        ""
      ],
      "metadata": {
        "id": "SaK8wbav-_YY"
      },
      "execution_count": null,
      "outputs": []
    },
    {
      "cell_type": "code",
      "source": [
        "import tensorflow as tf\n",
        "import keras_tuner\n",
        "import matplotlib.pyplot as plt\n",
        "import numpy as np\n",
        "import sklearn.pipeline"
      ],
      "metadata": {
        "id": "4lWyL9pI_IXW"
      },
      "execution_count": null,
      "outputs": []
    },
    {
      "cell_type": "code",
      "source": [
        "#Downloading the dataset\n",
        "(x_train, y_train), (x_test, y_test) = tf.keras.datasets.fashion_mnist.load_data()"
      ],
      "metadata": {
        "id": "IN9MZP0Q_sG_"
      },
      "execution_count": null,
      "outputs": []
    },
    {
      "cell_type": "code",
      "source": [
        "x_train.shape"
      ],
      "metadata": {
        "colab": {
          "base_uri": "https://localhost:8080/"
        },
        "id": "9g9DFAcXBKS9",
        "outputId": "89e9bf0e-b8bb-4899-831f-c924445befae"
      },
      "execution_count": null,
      "outputs": [
        {
          "output_type": "execute_result",
          "data": {
            "text/plain": [
              "(60000, 28, 28)"
            ]
          },
          "metadata": {},
          "execution_count": 4
        }
      ]
    },
    {
      "cell_type": "code",
      "source": [
        "#Change the index to view various items\n",
        "plt.imshow(x_train[2],cmap ='binary')\n",
        "plt.xlabel(y_train[2])\n",
        "plt.show()"
      ],
      "metadata": {
        "colab": {
          "base_uri": "https://localhost:8080/",
          "height": 279
        },
        "id": "SUFi83G0BTCt",
        "outputId": "3a4a2381-9887-41d5-d19a-c1c885573d93"
      },
      "execution_count": null,
      "outputs": [
        {
          "output_type": "display_data",
          "data": {
            "image/png": "[encoded data removed]",
            "text/plain": [
              "<Figure size 432x288 with 1 Axes>"
            ]
          },
          "metadata": {
            "needs_background": "light"
          }
        }
      ]
    },
    {
      "cell_type": "code",
      "source": [
        "#Creating the model\n",
        "def create_model(hp):\n",
        "  #Hyperparameters\n",
        "  num_hidden_layers = 1\n",
        "  num_units = 8\n",
        "  dropout_rate = 0.1\n",
        "  learning_rate = 0.01\n",
        "\n",
        "  if hp:\n",
        "    num_hidden_layers = hp.Choice('num_hidden_layers', values=[1, 2, 3])\n",
        "    num_units = hp.Choice('num_units', values=[8, 16, 32])\n",
        "    dropout_rate = hp.Float('dropout_rate', min_value =0.1, max_value=0.5)\n",
        "    learning_rate = hp.Float('learning_rate', min_value=0.0001, max_value=0.01)\n",
        "\n",
        "  model = tf.keras.models.Sequential()\n",
        "\n",
        "  model.add(tf.keras.layers.Flatten(input_shape = (28,28)))\n",
        "  model.add(tf.keras.layers.Lambda(lambda x: x/255.))\n",
        "\n",
        "  for _ in range (0, num_hidden_layers):\n",
        "    model.add(tf.keras.layers.Dense(num_units, activation=\"relu\"))\n",
        "    model.add(tf.keras.layers.Dropout(dropout_rate))\n",
        "\n",
        "  model.add(tf.keras.layers.Dense(10, activation=\"softmax\"))\n",
        "\n",
        "  model.compile(\n",
        "      loss=\"sparse_categorical_crossentropy\",\n",
        "      optimizer=tf.keras.optimizers.Adam(learning_rate=learning_rate),\n",
        "      metrics=['accuracy']\n",
        "\n",
        "  )\n",
        "  return model\n",
        "\n",
        "\n"
      ],
      "metadata": {
        "id": "E4xohbFlCSGW"
      },
      "execution_count": null,
      "outputs": []
    },
    {
      "cell_type": "code",
      "source": [
        "create_model(None).summary()"
      ],
      "metadata": {
        "colab": {
          "base_uri": "https://localhost:8080/"
        },
        "id": "zpP28VTjB-Hq",
        "outputId": "ea04777a-29c8-4729-d314-e5618af53eb1"
      },
      "execution_count": null,
      "outputs": [
        {
          "output_type": "stream",
          "name": "stdout",
          "text": [
            "Model: \"sequential_5\"\n",
            "_________________________________________________________________\n",
            " Layer (type)                Output Shape              Param #   \n",
            "=================================================================\n",
            " flatten_5 (Flatten)         (None, 784)               0         \n",
            "                                                                 \n",
            " lambda_5 (Lambda)           (None, 784)               0         \n",
            "                                                                 \n",
            " dense_10 (Dense)            (None, 8)                 6280      \n",
            "                                                                 \n",
            " dropout_5 (Dropout)         (None, 8)                 0         \n",
            "                                                                 \n",
            " dense_11 (Dense)            (None, 10)                90        \n",
            "                                                                 \n",
            "=================================================================\n",
            "Total params: 6,370\n",
            "Trainable params: 6,370\n",
            "Non-trainable params: 0\n",
            "_________________________________________________________________\n"
          ]
        }
      ]
    },
    {
      "cell_type": "code",
      "source": [
        "#Keras Tuner\n",
        "class CustomTuner(keras_tuner.tuners.BayesianOptimization):\n",
        "  def run_trial(self, trial, *args, **kwargs):\n",
        "    kwargs['batch_size'] = trial.hyperparamters.Int('batch_size', 32, 128, step=32)\n",
        "    super(CustomTuner, self).run_trial(trial, *args, **kwargs)\n",
        "\n"
      ],
      "metadata": {
        "id": "fMZPr0_aGdgt"
      },
      "execution_count": null,
      "outputs": []
    },
    {
      "cell_type": "code",
      "source": [
        "tuner = CustomTuner(\n",
        "    create_model,\n",
        "    objective='val_accuracy',\n",
        "    max_trials=20,\n",
        "    directory='logs',\n",
        "    project_name='fashion_mist',\n",
        "    overwrite= True\n",
        "  \n",
        ")"
      ],
      "metadata": {
        "id": "c_vj81O_N5F2"
      },
      "execution_count": null,
      "outputs": []
    },
    {
      "cell_type": "code",
      "source": [
        "tuner.search_space_summary()"
      ],
      "metadata": {
        "colab": {
          "base_uri": "https://localhost:8080/"
        },
        "id": "_yfsfnEWPrye",
        "outputId": "a68b9a33-a773-41d5-d771-8e7f6367dcf3"
      },
      "execution_count": null,
      "outputs": [
        {
          "output_type": "stream",
          "name": "stdout",
          "text": [
            "Search space summary\n",
            "Default search space size: 4\n",
            "num_hidden_layers (Choice)\n",
            "{'default': 1, 'conditions': [], 'values': [1, 2, 3], 'ordered': True}\n",
            "num_units (Choice)\n",
            "{'default': 8, 'conditions': [], 'values': [8, 16, 32], 'ordered': True}\n",
            "dropout_rate (Float)\n",
            "{'default': 0.1, 'conditions': [], 'min_value': 0.1, 'max_value': 0.5, 'step': None, 'sampling': None}\n",
            "learning_rate (Float)\n",
            "{'default': 0.0001, 'conditions': [], 'min_value': 0.0001, 'max_value': 0.01, 'step': None, 'sampling': None}\n"
          ]
        }
      ]
    },
    {
      "cell_type": "code",
      "source": [
        "\n",
        "tuner.search(\n",
        "    x_train, y_train,\n",
        "    validation_data=(x_test, y_test),\n",
        "    epochs=5, verbose=False\n",
        ")"
      ],
      "metadata": {
        "id": "bB9FxC37Q0l4"
      },
      "execution_count": null,
      "outputs": []
    },
    {
      "cell_type": "code",
      "source": [
        "tuner.results_summary(1)"
      ],
      "metadata": {
        "id": "GbqCcl0_Rrt0"
      },
      "execution_count": null,
      "outputs": []
    },
    {
      "cell_type": "code",
      "source": [
        "model = tuner.get_best_models(num_models=1)[0]\n",
        "model.summary()"
      ],
      "metadata": {
        "id": "k5LZxEXPVYEw"
      },
      "execution_count": null,
      "outputs": []
    },
    {
      "cell_type": "code",
      "source": [
        "_ = model.fit(\n",
        "    x_train, y_train,\n",
        "    validation_data=(x_test, y_test),\n",
        "    epochs=20, batch_size=128,\n",
        "    callbacks=(tf.keras.callbacks.EarlyStopping(monitor='val_accuracy', patience=3))\n",
        ")"
      ],
      "metadata": {
        "id": "dpTCKFG4Vqh6"
      },
      "execution_count": null,
      "outputs": []
    }
  ]
}